{
  "nbformat": 4,
  "nbformat_minor": 0,
  "metadata": {
    "colab": {
      "provenance": []
    },
    "kernelspec": {
      "name": "python3",
      "display_name": "Python 3"
    },
    "language_info": {
      "name": "python"
    }
  },
  "cells": [
    {
      "cell_type": "markdown",
      "source": [
        "**Theoretical**"
      ],
      "metadata": {
        "id": "S0dpbUK2DHbd"
      }
    },
    {
      "cell_type": "markdown",
      "source": [
        "1. What is Boosting in Machine Learning?\n",
        "\n",
        "Boosting is an ensemble learning technique that combines multiple weak learners (usually decision trees) to form a strong learner. It works by training models sequentially, where each new model tries to correct the errors made by the previous ones. The final prediction is a weighted combination of all models, resulting in improved accuracy and reduced bias."
      ],
      "metadata": {
        "id": "BypL3V75DHfP"
      }
    },
    {
      "cell_type": "markdown",
      "source": [
        "2. How does Boosting differ from Bagging?\n",
        "\n",
        "Boosting and Bagging are both ensemble methods but work differently. Bagging trains models independently in parallel on random subsets of data to reduce variance (e.g., Random Forest). Boosting, on the other hand, trains models sequentially where each new model learns from the mistakes of the previous ones, mainly reducing bias. Boosting focuses more on hard-to-predict examples, while bagging treats all samples equally."
      ],
      "metadata": {
        "id": "aXg9ZiqrDHhS"
      }
    },
    {
      "cell_type": "markdown",
      "source": [
        "3. What is the key idea behind AdaBoost?\n",
        "\n",
        "The key idea behind AdaBoost (Adaptive Boosting) is to assign higher weights to misclassified samples so that the next weak learner focuses more on those difficult cases. It builds a sequence of models where each one improves upon the previous, and combines their outputs using weighted majority voting or weighted sum for final prediction."
      ],
      "metadata": {
        "id": "w4OJc3rLDHjx"
      }
    },
    {
      "cell_type": "markdown",
      "source": [
        "4. Explain the working of AdaBoost with an example.\n",
        "\n",
        "Suppose we are using AdaBoost with decision stumps (one-level decision trees) on a binary classification task. Initially, all training samples have equal weights. The first stump is trained and may misclassify some data. AdaBoost increases the weights of misclassified samples and decreases those of correctly classified ones. The next stump focuses more on the previously misclassified samples. This process repeats for several iterations. The final model aggregates all stumps’ predictions using their assigned weights (based on performance)."
      ],
      "metadata": {
        "id": "EKcztDlpDHmT"
      }
    },
    {
      "cell_type": "markdown",
      "source": [
        "5. What is Gradient Boosting, and how is it different from AdaBoost?\n",
        "\n",
        "Gradient Boosting is another boosting technique where models are added sequentially to minimize a loss function using gradient descent. Instead of reweighting samples like AdaBoost, Gradient Boosting fits new models to the residual errors of the previous ones. It's more flexible than AdaBoost because it can optimize various loss functions and work with both regression and classification problems."
      ],
      "metadata": {
        "id": "AMEvtO1FDHod"
      }
    },
    {
      "cell_type": "markdown",
      "source": [
        "6. What is the loss function in Gradient Boosting?\n",
        "\n",
        "The loss function in Gradient Boosting depends on the task. For regression, it’s commonly Mean Squared Error (MSE); for classification, it can be Log Loss or Deviance. The model tries to minimize this loss function by fitting new learners to the negative gradient (residuals) of the loss with respect to the model's predictions."
      ],
      "metadata": {
        "id": "JpWp6NVPDHqt"
      }
    },
    {
      "cell_type": "markdown",
      "source": [
        "7. How does XGBoost improve over traditional Gradient Boosting?\n",
        "\n",
        "XGBoost (Extreme Gradient Boosting) enhances traditional Gradient Boosting in several ways:\n",
        "\n",
        "Regularization to prevent overfitting.\n",
        "\n",
        "Parallel processing for faster training.\n",
        "\n",
        "Handling of missing values automatically.\n",
        "\n",
        "Tree pruning based on max depth.\n",
        "\n",
        "Efficient memory usage and scalability for large datasets.\n",
        "These improvements make it faster, more accurate, and more suitable for real-world problems."
      ],
      "metadata": {
        "id": "q2jZ7f1gDHtD"
      }
    },
    {
      "cell_type": "markdown",
      "source": [
        "8. What is the difference between XGBoost and CatBoost?\n",
        "\n",
        "XGBoost is efficient and widely used, but it needs manual preprocessing for categorical data. CatBoost, on the other hand, is designed to handle categorical variables automatically using techniques like Ordered Target Encoding. CatBoost also avoids prediction shift and is often easier to use when working with mixed data types, especially in business applications."
      ],
      "metadata": {
        "id": "TWGzY925DHvY"
      }
    },
    {
      "cell_type": "markdown",
      "source": [
        "9. What are some real-world applications of Boosting techniques?\n",
        "\n",
        "Boosting algorithms are used in:\n",
        "\n",
        "Credit scoring and fraud detection in finance.\n",
        "\n",
        "Customer churn prediction in telecom.\n",
        "\n",
        "Click-through rate prediction in online advertising.\n",
        "\n",
        "Medical diagnosis using patient data.\n",
        "\n",
        "Ranking systems in search engines.\n",
        "These applications benefit from Boosting's high accuracy and ability to handle complex patterns."
      ],
      "metadata": {
        "id": "8_ByNLKhDHxv"
      }
    },
    {
      "cell_type": "markdown",
      "source": [
        "10. How does regularization help in XGBoost?\n",
        "\n",
        "Regularization in XGBoost (using L1 and L2 penalties) helps control model complexity and prevents overfitting. By penalizing large weights and unnecessary splits, it ensures the model generalizes well to unseen data, improving stability and predictive performance."
      ],
      "metadata": {
        "id": "DlXzpIXbDH0D"
      }
    },
    {
      "cell_type": "markdown",
      "source": [
        "11. What are some hyperparameters to tune in Gradient Boosting models?\n",
        "\n",
        "Important hyperparameters include:\n",
        "\n",
        "learning_rate: controls how much each tree contributes.\n",
        "\n",
        "n_estimators: number of trees to be built.\n",
        "\n",
        "max_depth: depth of individual trees.\n",
        "\n",
        "subsample: fraction of samples used per tree.\n",
        "\n",
        "min_samples_split and min_samples_leaf: control tree splits.\n",
        "\n",
        "loss: defines the loss function to be minimized.\n",
        "Tuning these helps balance model complexity and performance."
      ],
      "metadata": {
        "id": "0MtagHYKDH3j"
      }
    },
    {
      "cell_type": "markdown",
      "source": [
        "12. What is the concept of Feature Importance in Boosting?\n",
        "\n",
        "Feature Importance in Boosting indicates how useful each feature is in predicting the target variable. It is calculated based on how frequently a feature is used in splits across all trees or the total gain it provides. It helps in feature selection and understanding the model’s decision-making process."
      ],
      "metadata": {
        "id": "VTz5occZD8sZ"
      }
    },
    {
      "cell_type": "markdown",
      "source": [
        "13. Why is CatBoost efficient for categorical data?\n",
        "\n",
        "CatBoost handles categorical data internally using a method called Ordered Target Encoding, which avoids overfitting and data leakage. It doesn’t require manual encoding like one-hot or label encoding, and processes categorical features in a way that captures patterns more effectively, making it especially efficient for datasets with many non-numeric fields."
      ],
      "metadata": {
        "id": "8HcJEGPnD8v8"
      }
    },
    {
      "cell_type": "markdown",
      "source": [
        "**Practical**"
      ],
      "metadata": {
        "id": "aJpgsPwvEEda"
      }
    },
    {
      "cell_type": "code",
      "source": [
        "# 14. Train an AdaBoost Classifier on a sample dataset and print model accuracy\n",
        "from sklearn.ensemble import AdaBoostClassifier\n",
        "from sklearn.datasets import load_iris\n",
        "from sklearn.model_selection import train_test_split\n",
        "from sklearn.metrics import accuracy_score\n",
        "\n",
        "X, y = load_iris(return_X_y=True)\n",
        "X_train, X_test, y_train, y_test = train_test_split(X, y, test_size=0.3, random_state=42)\n",
        "\n",
        "model = AdaBoostClassifier(n_estimators=50, random_state=42)\n",
        "model.fit(X_train, y_train)\n",
        "\n",
        "y_pred = model.predict(X_test)\n",
        "print(\"Accuracy:\", accuracy_score(y_test, y_pred))"
      ],
      "metadata": {
        "colab": {
          "base_uri": "https://localhost:8080/"
        },
        "id": "1YeCCzv7EDm7",
        "outputId": "0056825e-4e7f-4496-9f81-6aade683b295"
      },
      "execution_count": 1,
      "outputs": [
        {
          "output_type": "stream",
          "name": "stdout",
          "text": [
            "Accuracy: 1.0\n"
          ]
        }
      ]
    },
    {
      "cell_type": "code",
      "source": [
        "# 15. Train an AdaBoost Regressor and evaluate performance using Mean Absolute Error (MAE)\n",
        "from sklearn.ensemble import AdaBoostRegressor\n",
        "from sklearn.datasets import fetch_california_housing\n",
        "from sklearn.model_selection import train_test_split\n",
        "from sklearn.metrics import mean_absolute_error\n",
        "\n",
        "X, y = fetch_california_housing(return_X_y=True)\n",
        "X_train, X_test, y_train, y_test = train_test_split(X, y, test_size=0.3, random_state=42)\n",
        "\n",
        "reg = AdaBoostRegressor(n_estimators=100, random_state=42)\n",
        "reg.fit(X_train, y_train)\n",
        "\n",
        "y_pred = reg.predict(X_test)\n",
        "print(\"MAE:\", mean_absolute_error(y_test, y_pred))"
      ],
      "metadata": {
        "colab": {
          "base_uri": "https://localhost:8080/"
        },
        "id": "s6_0GKcLEvCR",
        "outputId": "21114ba9-bc97-45df-b4dd-9e31469d9ab8"
      },
      "execution_count": 2,
      "outputs": [
        {
          "output_type": "stream",
          "name": "stdout",
          "text": [
            "MAE: 0.7570781375679175\n"
          ]
        }
      ]
    },
    {
      "cell_type": "code",
      "source": [
        "# 16. Train a Gradient Boosting Classifier on the Breast Cancer dataset and print feature importance\n",
        "from sklearn.ensemble import GradientBoostingClassifier\n",
        "from sklearn.datasets import load_breast_cancer\n",
        "import matplotlib.pyplot as plt\n",
        "\n",
        "X, y = load_breast_cancer(return_X_y=True)\n",
        "X_train, X_test, y_train, y_test = train_test_split(X, y, test_size=0.3, random_state=42)\n",
        "\n",
        "clf = GradientBoostingClassifier(random_state=42)\n",
        "clf.fit(X_train, y_train)\n",
        "\n",
        "plt.bar(range(X.shape[1]), clf.feature_importances_)\n",
        "plt.title(\"Feature Importances\")\n",
        "plt.show()\n",
        "\n"
      ],
      "metadata": {
        "colab": {
          "base_uri": "https://localhost:8080/",
          "height": 452
        },
        "id": "VjyaAWv9E4OK",
        "outputId": "5c06ea12-7fba-4988-944c-81ffd3dbceeb"
      },
      "execution_count": 3,
      "outputs": [
        {
          "output_type": "display_data",
          "data": {
            "text/plain": [
              "<Figure size 640x480 with 1 Axes>"
            ],
            "image/png": "[encoded data removed]"
          },
          "metadata": {}
        }
      ]
    },
    {
      "cell_type": "code",
      "source": [
        "# 17. Train a Gradient Boosting Regressor and evaluate using R-Squared Score\n",
        "from sklearn.datasets import fetch_california_housing\n",
        "from sklearn.model_selection import train_test_split\n",
        "from sklearn.ensemble import GradientBoostingRegressor\n",
        "from sklearn.metrics import r2_score\n",
        "\n",
        "data = fetch_california_housing()\n",
        "X, y = data.data, data.target\n",
        "\n",
        "X_train, X_test, y_train, y_test = train_test_split(X, y, test_size=0.2, random_state=42)\n",
        "\n",
        "gbr = GradientBoostingRegressor(n_estimators=100, learning_rate=0.1, max_depth=3, random_state=42)\n",
        "gbr.fit(X_train, y_train)\n",
        "\n",
        "y_pred = gbr.predict(X_test)\n",
        "r2 = r2_score(y_test, y_pred)\n",
        "\n",
        "print(f\"R-Squared Score: {r2:.4f}\")\n"
      ],
      "metadata": {
        "colab": {
          "base_uri": "https://localhost:8080/"
        },
        "id": "wzr4p5OTE4Rx",
        "outputId": "55aa890f-e395-47dc-cf6b-d06b477cbe18"
      },
      "execution_count": 4,
      "outputs": [
        {
          "output_type": "stream",
          "name": "stdout",
          "text": [
            "R-Squared Score: 0.7756\n"
          ]
        }
      ]
    },
    {
      "cell_type": "code",
      "source": [
        "# 18. Train an XGBoost Classifier on a dataset and compare accuracy with Gradient Boosting\n",
        "from sklearn.datasets import load_breast_cancer\n",
        "from sklearn.model_selection import train_test_split\n",
        "from sklearn.ensemble import GradientBoostingClassifier\n",
        "from xgboost import XGBClassifier\n",
        "from sklearn.metrics import accuracy_score\n",
        "\n",
        "X, y = load_breast_cancer(return_X_y=True)\n",
        "X_train, X_test, y_train, y_test = train_test_split(X, y, test_size=0.2, random_state=42)\n",
        "\n",
        "gb = GradientBoostingClassifier()\n",
        "xgb = XGBClassifier(use_label_encoder=False, eval_metric='logloss')\n",
        "\n",
        "gb.fit(X_train, y_train)\n",
        "xgb.fit(X_train, y_train)\n",
        "\n",
        "gb_acc = accuracy_score(y_test, gb.predict(X_test))\n",
        "xgb_acc = accuracy_score(y_test, xgb.predict(X_test))\n",
        "\n",
        "print(\"Gradient Boosting Accuracy:\", gb_acc)\n",
        "print(\"XGBoost Accuracy:\", xgb_acc)"
      ],
      "metadata": {
        "colab": {
          "base_uri": "https://localhost:8080/"
        },
        "id": "X-IH6Yp_E4Yl",
        "outputId": "4128e88b-90bb-4590-f67f-ace2fd9deff7"
      },
      "execution_count": 5,
      "outputs": [
        {
          "output_type": "stream",
          "name": "stdout",
          "text": [
            "Gradient Boosting Accuracy: 0.956140350877193\n",
            "XGBoost Accuracy: 0.956140350877193\n"
          ]
        },
        {
          "output_type": "stream",
          "name": "stderr",
          "text": [
            "/usr/local/lib/python3.11/dist-packages/xgboost/core.py:158: UserWarning: [08:24:33] WARNING: /workspace/src/learner.cc:740: \n",
            "Parameters: { \"use_label_encoder\" } are not used.\n",
            "\n",
            "  warnings.warn(smsg, UserWarning)\n"
          ]
        }
      ]
    },
    {
      "cell_type": "code",
      "source": [
        "!pip install catboost"
      ],
      "metadata": {
        "colab": {
          "base_uri": "https://localhost:8080/"
        },
        "id": "yj8QKw_kGrUo",
        "outputId": "610499ba-fc3a-45e2-c55c-ac44bf5a4a29"
      },
      "execution_count": 14,
      "outputs": [
        {
          "output_type": "stream",
          "name": "stdout",
          "text": [
            "Collecting catboost\n",
            "  Downloading catboost-1.2.8-cp311-cp311-manylinux2014_x86_64.whl.metadata (1.2 kB)\n",
            "Requirement already satisfied: graphviz in /usr/local/lib/python3.11/dist-packages (from catboost) (0.20.3)\n",
            "Requirement already satisfied: matplotlib in /usr/local/lib/python3.11/dist-packages (from catboost) (3.10.0)\n",
            "Requirement already satisfied: numpy<3.0,>=1.16.0 in /usr/local/lib/python3.11/dist-packages (from catboost) (2.0.2)\n",
            "Requirement already satisfied: pandas>=0.24 in /usr/local/lib/python3.11/dist-packages (from catboost) (2.2.2)\n",
            "Requirement already satisfied: scipy in /usr/local/lib/python3.11/dist-packages (from catboost) (1.15.3)\n",
            "Requirement already satisfied: plotly in /usr/local/lib/python3.11/dist-packages (from catboost) (5.24.1)\n",
            "Requirement already satisfied: six in /usr/local/lib/python3.11/dist-packages (from catboost) (1.17.0)\n",
            "Requirement already satisfied: python-dateutil>=2.8.2 in /usr/local/lib/python3.11/dist-packages (from pandas>=0.24->catboost) (2.9.0.post0)\n",
            "Requirement already satisfied: pytz>=2020.1 in /usr/local/lib/python3.11/dist-packages (from pandas>=0.24->catboost) (2025.2)\n",
            "Requirement already satisfied: tzdata>=2022.7 in /usr/local/lib/python3.11/dist-packages (from pandas>=0.24->catboost) (2025.2)\n",
            "Requirement already satisfied: contourpy>=1.0.1 in /usr/local/lib/python3.11/dist-packages (from matplotlib->catboost) (1.3.2)\n",
            "Requirement already satisfied: cycler>=0.10 in /usr/local/lib/python3.11/dist-packages (from matplotlib->catboost) (0.12.1)\n",
            "Requirement already satisfied: fonttools>=4.22.0 in /usr/local/lib/python3.11/dist-packages (from matplotlib->catboost) (4.58.0)\n",
            "Requirement already satisfied: kiwisolver>=1.3.1 in /usr/local/lib/python3.11/dist-packages (from matplotlib->catboost) (1.4.8)\n",
            "Requirement already satisfied: packaging>=20.0 in /usr/local/lib/python3.11/dist-packages (from matplotlib->catboost) (24.2)\n",
            "Requirement already satisfied: pillow>=8 in /usr/local/lib/python3.11/dist-packages (from matplotlib->catboost) (11.2.1)\n",
            "Requirement already satisfied: pyparsing>=2.3.1 in /usr/local/lib/python3.11/dist-packages (from matplotlib->catboost) (3.2.3)\n",
            "Requirement already satisfied: tenacity>=6.2.0 in /usr/local/lib/python3.11/dist-packages (from plotly->catboost) (9.1.2)\n",
            "Downloading catboost-1.2.8-cp311-cp311-manylinux2014_x86_64.whl (99.2 MB)\n",
            "\u001b[2K   \u001b[90m━━━━━━━━━━━━━━━━━━━━━━━━━━━━━━━━━━━━━━━━\u001b[0m \u001b[32m99.2/99.2 MB\u001b[0m \u001b[31m8.0 MB/s\u001b[0m eta \u001b[36m0:00:00\u001b[0m\n",
            "\u001b[?25hInstalling collected packages: catboost\n",
            "Successfully installed catboost-1.2.8\n"
          ]
        }
      ]
    },
    {
      "cell_type": "code",
      "source": [
        "# 19. Train a CatBoost Classifier and evaluate using F1-Score\n",
        "from catboost import CatBoostClassifier\n",
        "from sklearn.datasets import load_breast_cancer\n",
        "from sklearn.model_selection import train_test_split\n",
        "from sklearn.metrics import f1_score\n",
        "\n",
        "X, y = load_breast_cancer(return_X_y=True)\n",
        "X_train, X_test, y_train, y_test = train_test_split(X, y, test_size=0.2, random_state=42)\n",
        "\n",
        "model = CatBoostClassifier(verbose=0)\n",
        "model.fit(X_train, y_train)\n",
        "pred = model.predict(X_test)\n",
        "\n",
        "print(\"F1 Score:\", f1_score(y_test, pred))"
      ],
      "metadata": {
        "colab": {
          "base_uri": "https://localhost:8080/"
        },
        "id": "fP9cMw5PFdSQ",
        "outputId": "70fd735b-b086-4865-d30e-a37e68fa62fc"
      },
      "execution_count": 20,
      "outputs": [
        {
          "output_type": "stream",
          "name": "stdout",
          "text": [
            "F1 Score: 0.9790209790209791\n"
          ]
        }
      ]
    },
    {
      "cell_type": "code",
      "source": [
        "# 20. Train an XGBoost Regressor and evaluate using Mean Squared Error (MSE)\n",
        "from xgboost import XGBRegressor\n",
        "from sklearn.datasets import fetch_california_housing\n",
        "from sklearn.model_selection import train_test_split\n",
        "from sklearn.metrics import mean_squared_error\n",
        "\n",
        "X, y = fetch_california_housing(return_X_y=True)\n",
        "X_train, X_test, y_train, y_test = train_test_split(X, y, test_size=0.2, random_state=42)\n",
        "\n",
        "model = XGBRegressor()\n",
        "model.fit(X_train, y_train)\n",
        "pred = model.predict(X_test)\n",
        "\n",
        "print(\"MSE:\", mean_squared_error(y_test, pred))"
      ],
      "metadata": {
        "colab": {
          "base_uri": "https://localhost:8080/"
        },
        "id": "dw9CjgtxFdUx",
        "outputId": "1e25260c-4f20-46e3-9c34-e31da51cb0ec"
      },
      "execution_count": 7,
      "outputs": [
        {
          "output_type": "stream",
          "name": "stdout",
          "text": [
            "MSE: 0.2225899267544737\n"
          ]
        }
      ]
    },
    {
      "cell_type": "code",
      "source": [
        "# 21. Train an AdaBoost Classifier and visualize feature importance\n",
        "from sklearn.ensemble import AdaBoostClassifier\n",
        "from sklearn.datasets import load_breast_cancer\n",
        "from sklearn.model_selection import train_test_split\n",
        "import matplotlib.pyplot as plt\n",
        "\n",
        "X, y = load_breast_cancer(return_X_y=True)\n",
        "X_train, X_test, y_train, y_test = train_test_split(X, y, test_size=0.2, random_state=42)\n",
        "\n",
        "model = AdaBoostClassifier()\n",
        "model.fit(X_train, y_train)\n",
        "\n",
        "plt.bar(range(X.shape[1]), model.feature_importances_)\n",
        "plt.xlabel(\"Features\")\n",
        "plt.ylabel(\"Importance\")\n",
        "plt.title(\"AdaBoost Feature Importance\")\n",
        "plt.show()"
      ],
      "metadata": {
        "colab": {
          "base_uri": "https://localhost:8080/",
          "height": 472
        },
        "id": "cXI-W42XFdW1",
        "outputId": "9a8a0712-71ac-4e39-fb14-d92cff2a2baa"
      },
      "execution_count": 8,
      "outputs": [
        {
          "output_type": "display_data",
          "data": {
            "text/plain": [
              "<Figure size 640x480 with 1 Axes>"
            ],
            "image/png": "[encoded data removed]"
          },
          "metadata": {}
        }
      ]
    },
    {
      "cell_type": "code",
      "source": [
        "# 22. Train a Gradient Boosting Regressor and plot learning curves\n",
        "from sklearn.ensemble import GradientBoostingRegressor\n",
        "from sklearn.datasets import fetch_california_housing\n",
        "from sklearn.model_selection import train_test_split\n",
        "import matplotlib.pyplot as plt\n",
        "\n",
        "X, y = fetch_california_housing(return_X_y=True)\n",
        "X_train, X_test, y_train, y_test = train_test_split(X, y, test_size=0.2, random_state=42)\n",
        "\n",
        "model = GradientBoostingRegressor()\n",
        "model.fit(X_train, y_train)\n",
        "\n",
        "plt.plot(model.train_score_)\n",
        "plt.xlabel(\"Iterations\")\n",
        "plt.ylabel(\"Deviance\")\n",
        "plt.title(\"Gradient Boosting Learning Curve\")\n",
        "plt.show()"
      ],
      "metadata": {
        "colab": {
          "base_uri": "https://localhost:8080/",
          "height": 472
        },
        "id": "An-cTQdMFdZK",
        "outputId": "2584c258-6c4d-4e47-d7e0-656629e71b3d"
      },
      "execution_count": 9,
      "outputs": [
        {
          "output_type": "display_data",
          "data": {
            "text/plain": [
              "<Figure size 640x480 with 1 Axes>"
            ],
            "image/png": "[encoded data removed]"
          },
          "metadata": {}
        }
      ]
    },
    {
      "cell_type": "code",
      "source": [
        "# 23. Train an XGBoost Classifier and visualize feature importance\n",
        "from xgboost import XGBClassifier, plot_importance\n",
        "from sklearn.datasets import load_breast_cancer\n",
        "from sklearn.model_selection import train_test_split\n",
        "import matplotlib.pyplot as plt\n",
        "\n",
        "X, y = load_breast_cancer(return_X_y=True)\n",
        "X_train, X_test, y_train, y_test = train_test_split(X, y, test_size=0.2, random_state=42)\n",
        "\n",
        "model = XGBClassifier(use_label_encoder=False, eval_metric='logloss')\n",
        "model.fit(X_train, y_train)\n",
        "\n",
        "plot_importance(model)\n",
        "plt.show()"
      ],
      "metadata": {
        "colab": {
          "base_uri": "https://localhost:8080/",
          "height": 541
        },
        "id": "bsF7ZDD4Fdbx",
        "outputId": "bf46f1c0-99a1-4768-dab3-0e53323a1e53"
      },
      "execution_count": 10,
      "outputs": [
        {
          "output_type": "stream",
          "name": "stderr",
          "text": [
            "/usr/local/lib/python3.11/dist-packages/xgboost/core.py:158: UserWarning: [08:26:40] WARNING: /workspace/src/learner.cc:740: \n",
            "Parameters: { \"use_label_encoder\" } are not used.\n",
            "\n",
            "  warnings.warn(smsg, UserWarning)\n"
          ]
        },
        {
          "output_type": "display_data",
          "data": {
            "text/plain": [
              "<Figure size 640x480 with 1 Axes>"
            ],
            "image/png": "[encoded data removed]"
          },
          "metadata": {}
        }
      ]
    },
    {
      "cell_type": "code",
      "source": [
        "# 24. Train a CatBoost Classifier and plot the confusion matrix\n",
        "from catboost import CatBoostClassifier\n",
        "from sklearn.datasets import load_breast_cancer\n",
        "from sklearn.model_selection import train_test_split\n",
        "from sklearn.metrics import ConfusionMatrixDisplay\n",
        "import matplotlib.pyplot as plt\n",
        "\n",
        "X, y = load_breast_cancer(return_X_y=True)\n",
        "X_train, X_test, y_train, y_test = train_test_split(X, y, test_size=0.2, random_state=42)\n",
        "\n",
        "model = CatBoostClassifier(verbose=0)\n",
        "model.fit(X_train, y_train)\n",
        "ConfusionMatrixDisplay.from_estimator(model, X_test, y_test)\n",
        "plt.show()"
      ],
      "metadata": {
        "colab": {
          "base_uri": "https://localhost:8080/",
          "height": 455
        },
        "id": "t_Mq1SKVFdfc",
        "outputId": "4782e217-8b2e-4fc4-8582-bc01b4d10233"
      },
      "execution_count": 19,
      "outputs": [
        {
          "output_type": "display_data",
          "data": {
            "text/plain": [
              "<Figure size 640x480 with 2 Axes>"
            ],
            "image/png": "[encoded data removed]"
          },
          "metadata": {}
        }
      ]
    },
    {
      "cell_type": "code",
      "source": [
        "# 25. Train an AdaBoost Classifier with different numbers of estimators and compare accuracy\n",
        "from sklearn.ensemble import AdaBoostClassifier\n",
        "from sklearn.datasets import load_breast_cancer\n",
        "from sklearn.model_selection import train_test_split\n",
        "from sklearn.metrics import accuracy_score\n",
        "\n",
        "X, y = load_breast_cancer(return_X_y=True)\n",
        "X_train, X_test, y_train, y_test = train_test_split(X, y, test_size=0.2, random_state=42)\n",
        "\n",
        "for n in [10, 50, 100, 200]:\n",
        "    model = AdaBoostClassifier(n_estimators=n)\n",
        "    model.fit(X_train, y_train)\n",
        "    acc = accuracy_score(y_test, model.predict(X_test))\n",
        "    print(f\"n_estimators={n}, Accuracy={acc}\")"
      ],
      "metadata": {
        "colab": {
          "base_uri": "https://localhost:8080/"
        },
        "id": "Jqw5YmvMGKHc",
        "outputId": "e88c1e89-4c5b-4a6f-9951-e831bd9a4ed5"
      },
      "execution_count": 12,
      "outputs": [
        {
          "output_type": "stream",
          "name": "stdout",
          "text": [
            "n_estimators=10, Accuracy=0.9649122807017544\n",
            "n_estimators=50, Accuracy=0.9649122807017544\n",
            "n_estimators=100, Accuracy=0.9736842105263158\n",
            "n_estimators=200, Accuracy=0.9736842105263158\n"
          ]
        }
      ]
    },
    {
      "cell_type": "code",
      "source": [
        "# 26. Train a Gradient Boosting Classifier and visualize the ROC curve\n",
        "from sklearn.ensemble import GradientBoostingClassifier\n",
        "from sklearn.datasets import load_breast_cancer\n",
        "from sklearn.model_selection import train_test_split\n",
        "from sklearn.metrics import RocCurveDisplay\n",
        "import matplotlib.pyplot as plt\n",
        "\n",
        "X, y = load_breast_cancer(return_X_y=True)\n",
        "X_train, X_test, y_train, y_test = train_test_split(X, y, test_size=0.2, random_state=42)\n",
        "\n",
        "model = GradientBoostingClassifier()\n",
        "model.fit(X_train, y_train)\n",
        "\n",
        "RocCurveDisplay.from_estimator(model, X_test, y_test)\n",
        "plt.show()"
      ],
      "metadata": {
        "colab": {
          "base_uri": "https://localhost:8080/",
          "height": 451
        },
        "id": "yPSfqSnTGKJu",
        "outputId": "6a7f4d20-203f-42f4-a256-c26c21f20d28"
      },
      "execution_count": 13,
      "outputs": [
        {
          "output_type": "display_data",
          "data": {
            "text/plain": [
              "<Figure size 640x480 with 1 Axes>"
            ],
            "image/png": "[encoded data removed]"
          },
          "metadata": {}
        }
      ]
    },
    {
      "cell_type": "code",
      "source": [
        "# 27. Train an XGBoost Regressor and tune the learning rate using GridSearchCV\n",
        "from xgboost import XGBRegressor\n",
        "from sklearn.datasets import fetch_california_housing\n",
        "from sklearn.model_selection import train_test_split, GridSearchCV\n",
        "\n",
        "X, y = fetch_california_housing(return_X_y=True)\n",
        "X_train, X_test, y_train, y_test = train_test_split(X, y, test_size=0.2, random_state=42)\n",
        "\n",
        "model = XGBRegressor()\n",
        "param_grid = {'learning_rate': [0.01, 0.1, 0.2]}\n",
        "grid = GridSearchCV(model, param_grid, cv=3)\n",
        "grid.fit(X_train, y_train)\n",
        "\n",
        "print(\"Best Learning Rate:\", grid.best_params_['learning_rate'])"
      ],
      "metadata": {
        "colab": {
          "base_uri": "https://localhost:8080/"
        },
        "id": "-RAcXYeeGKMJ",
        "outputId": "89d42017-25bc-476f-aeb7-85414ac00092"
      },
      "execution_count": 15,
      "outputs": [
        {
          "output_type": "stream",
          "name": "stdout",
          "text": [
            "Best Learning Rate: 0.2\n"
          ]
        }
      ]
    },
    {
      "cell_type": "code",
      "source": [
        "# 28. Train a CatBoost Classifier on an imbalanced dataset and compare performance with class weighting\n",
        "from catboost import CatBoostClassifier\n",
        "from sklearn.datasets import make_classification\n",
        "from sklearn.model_selection import train_test_split\n",
        "from sklearn.metrics import f1_score\n",
        "\n",
        "X, y = make_classification(n_samples=1000, weights=[0.9, 0.1], n_classes=2)\n",
        "X_train, X_test, y_train, y_test = train_test_split(X, y, test_size=0.2, random_state=42)\n",
        "\n",
        "model_weighted = CatBoostClassifier(class_weights=[1, 10], verbose=0)\n",
        "model_weighted.fit(X_train, y_train)\n",
        "\n",
        "pred = model_weighted.predict(X_test)\n",
        "print(\"F1 Score (weighted):\", f1_score(y_test, pred))"
      ],
      "metadata": {
        "colab": {
          "base_uri": "https://localhost:8080/"
        },
        "id": "A5rwZb0RGKOd",
        "outputId": "09daeb94-c91b-42f8-f08b-d4dff2106e98"
      },
      "execution_count": 16,
      "outputs": [
        {
          "output_type": "stream",
          "name": "stdout",
          "text": [
            "F1 Score (weighted): 0.7391304347826086\n"
          ]
        }
      ]
    },
    {
      "cell_type": "code",
      "source": [
        "# 29. Train an AdaBoost Classifier and analyze the effect of different learning rates\n",
        "from sklearn.ensemble import AdaBoostClassifier\n",
        "from sklearn.datasets import load_breast_cancer\n",
        "from sklearn.model_selection import train_test_split\n",
        "from sklearn.metrics import accuracy_score\n",
        "\n",
        "X, y = load_breast_cancer(return_X_y=True)\n",
        "X_train, X_test, y_train, y_test = train_test_split(X, y, test_size=0.2, random_state=42)\n",
        "\n",
        "for lr in [0.01, 0.1, 1]:\n",
        "    model = AdaBoostClassifier(learning_rate=lr)\n",
        "    model.fit(X_train, y_train)\n",
        "    acc = accuracy_score(y_test, model.predict(X_test))\n",
        "    print(f\"Learning Rate={lr}, Accuracy={acc}\")"
      ],
      "metadata": {
        "colab": {
          "base_uri": "https://localhost:8080/"
        },
        "id": "UbnotNBsGKR6",
        "outputId": "6da79119-0509-477c-c7cb-bbb16317979b"
      },
      "execution_count": 17,
      "outputs": [
        {
          "output_type": "stream",
          "name": "stdout",
          "text": [
            "Learning Rate=0.01, Accuracy=0.9385964912280702\n",
            "Learning Rate=0.1, Accuracy=0.956140350877193\n",
            "Learning Rate=1, Accuracy=0.9649122807017544\n"
          ]
        }
      ]
    },
    {
      "cell_type": "code",
      "source": [
        "# 30. Train an XGBoost Classifier for multi-class classification and evaluate using log-loss\n",
        "from xgboost import XGBClassifier\n",
        "from sklearn.datasets import load_digits\n",
        "from sklearn.model_selection import train_test_split\n",
        "from sklearn.metrics import log_loss\n",
        "\n",
        "X, y = load_digits(return_X_y=True)\n",
        "X_train, X_test, y_train, y_test = train_test_split(X, y, test_size=0.2, random_state=42)\n",
        "\n",
        "model = XGBClassifier(use_label_encoder=False, eval_metric='mlogloss')\n",
        "model.fit(X_train, y_train)\n",
        "probs = model.predict_proba(X_test)\n",
        "\n",
        "print(\"Log Loss:\", log_loss(y_test, probs))"
      ],
      "metadata": {
        "colab": {
          "base_uri": "https://localhost:8080/"
        },
        "id": "ha4tafshHAIq",
        "outputId": "753317bc-03e4-46a2-916c-9d1767fa4ec5"
      },
      "execution_count": 18,
      "outputs": [
        {
          "output_type": "stream",
          "name": "stderr",
          "text": [
            "/usr/local/lib/python3.11/dist-packages/xgboost/core.py:158: UserWarning: [08:29:17] WARNING: /workspace/src/learner.cc:740: \n",
            "Parameters: { \"use_label_encoder\" } are not used.\n",
            "\n",
            "  warnings.warn(smsg, UserWarning)\n"
          ]
        },
        {
          "output_type": "stream",
          "name": "stdout",
          "text": [
            "Log Loss: 0.0885952270211478\n"
          ]
        }
      ]
    },
    {
      "cell_type": "code",
      "source": [],
      "metadata": {
        "id": "YmEHPYSuHEhq"
      },
      "execution_count": null,
      "outputs": []
    }
  ]
}